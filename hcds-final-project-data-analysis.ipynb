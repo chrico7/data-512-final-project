{
 "cells": [
  {
   "cell_type": "markdown",
   "metadata": {},
   "source": [
    "# DATA 512 - Final Project Data Analysis\n",
    "**Corey Christopherson**\n",
    "\n",
    "This notebook is a record of the data analysis used for my study on the health of the Bainbridge Island aquifer system through an analysis of well log data."
   ]
  },
  {
   "cell_type": "code",
   "execution_count": 1,
   "metadata": {},
   "outputs": [],
   "source": [
    "# Import packages\n",
    "import numpy as np\n",
    "import pandas as pd\n",
    "import time\n",
    "from sklearn.cluster import KMeans"
   ]
  },
  {
   "cell_type": "code",
   "execution_count": 2,
   "metadata": {},
   "outputs": [],
   "source": [
    "# Define paths\n",
    "dataPath = r'C:/Users/chrico7/Documents/__Corey Christopherson/MS Data Science/Courses/HCDE 512/Final Project/Data/'"
   ]
  },
  {
   "cell_type": "code",
   "execution_count": 3,
   "metadata": {},
   "outputs": [
    {
     "data": {
      "text/html": [
       "<style>\n",
       "  table {margin-left: 0 !important;}\n",
       "</style>\n"
      ],
      "text/plain": [
       "<IPython.core.display.HTML object>"
      ]
     },
     "metadata": {},
     "output_type": "display_data"
    }
   ],
   "source": [
    "%%html\n",
    "<style>\n",
    "  table {margin-left: 0 !important;}\n",
    "</style>"
   ]
  },
  {
   "cell_type": "markdown",
   "metadata": {},
   "source": [
    "The data cleaning process is summarized in the hcds-final-project-data-exploration.ipynb Jupyter Notebook. The resulting file from this process is the well_data_bainbridge_island_final.csv file and contains the following fields\n",
    "\n",
    "| Name | Description |\n",
    "|:-------------------|:-----------------------------------------------------------------------------|\n",
    "| Well Log Id        | Unique well ID |\n",
    "| Well Comp Dt       | Well completion date |\n",
    "| Year               | Well completion year |\n",
    "| Well Depth Qt      | Depth of well in feet |\n",
    "| Well Diameter Qt   | Diameter of well in feet |\n",
    "| Well Depth         | Depth of well in feet as measured from mean sea level (MSL) |\n",
    "| elevation          | Elevation of well location from the Open-Elevation API in meters |\n",
    "| elevation (ft)     | Elevation of well location from the Open-Elevation API in feet |\n",
    "| St Plane Xcoord Nr | Well horizontal geographic coordinate value, WA State Plane Coordinate System |\n",
    "| St Plane Ycoord Nr | Well vertical geographic coordinate value, WA State Plane Coordinate System |\n",
    "| latitude           | Well latitude from the NGS Coordinate Conversion and Transformation Tool (NCAT) API |\n",
    "| longitude          | Well longitude from the NGS Coordinate Conversion and Transformation Tool (NCAT) API |"
   ]
  },
  {
   "cell_type": "code",
   "execution_count": 4,
   "metadata": {},
   "outputs": [],
   "source": [
    "# Read in data\n",
    "data_raw = pd.read_csv('{}well_data_bainbridge_island_final.csv'.format(dataPath),\n",
    "                       parse_dates=['Year','Well Comp Dt'], infer_datetime_format=True)"
   ]
  },
  {
   "cell_type": "code",
   "execution_count": 5,
   "metadata": {},
   "outputs": [
    {
     "name": "stdout",
     "output_type": "stream",
     "text": [
      "<class 'pandas.core.frame.DataFrame'>\n",
      "RangeIndex: 1353 entries, 0 to 1352\n",
      "Data columns (total 12 columns):\n",
      "Well Log Id           1353 non-null int64\n",
      "Well Comp Dt          1353 non-null datetime64[ns]\n",
      "Year                  1353 non-null datetime64[ns]\n",
      "Well Depth Qt         1353 non-null float64\n",
      "Well Diameter Qt      1343 non-null float64\n",
      "Well Depth            1353 non-null float64\n",
      "elevation             1353 non-null int64\n",
      "elevation (ft)        1353 non-null float64\n",
      "St Plane Xcoord Nr    1353 non-null int64\n",
      "St Plane Ycoord Nr    1353 non-null int64\n",
      "latitude              1353 non-null float64\n",
      "longitude             1353 non-null float64\n",
      "dtypes: datetime64[ns](2), float64(6), int64(4)\n",
      "memory usage: 127.0 KB\n"
     ]
    }
   ],
   "source": [
    "data_raw.info()"
   ]
  },
  {
   "cell_type": "markdown",
   "metadata": {},
   "source": [
    "Classify wells into different aquifers based on depth\n",
    "\n",
    "Do it per decade"
   ]
  },
  {
   "cell_type": "code",
   "execution_count": 6,
   "metadata": {},
   "outputs": [],
   "source": [
    "# Define decade groups\n",
    "data_raw.loc[:,'Decade'] = np.where(data_raw['Year'].dt.year < 1980, 70,\n",
    "                                    np.where(data_raw['Year'].dt.year < 1990, 80,\n",
    "                                             np.where(data_raw['Year'].dt.year < 2000, 90,\n",
    "                                                      np.where(data_raw['Year'].dt.year < 2010, 0,\n",
    "                                                               10\n",
    "                                                              )\n",
    "                                                     )\n",
    "                                            )\n",
    "                                   )"
   ]
  },
  {
   "cell_type": "code",
   "execution_count": 7,
   "metadata": {},
   "outputs": [
    {
     "name": "stdout",
     "output_type": "stream",
     "text": [
      "<class 'pandas.core.frame.DataFrame'>\n",
      "RangeIndex: 1353 entries, 0 to 1352\n",
      "Data columns (total 13 columns):\n",
      "Well Log Id           1353 non-null int64\n",
      "Well Comp Dt          1353 non-null datetime64[ns]\n",
      "Year                  1353 non-null datetime64[ns]\n",
      "Well Depth Qt         1353 non-null float64\n",
      "Well Diameter Qt      1343 non-null float64\n",
      "Well Depth            1353 non-null float64\n",
      "elevation             1353 non-null int64\n",
      "elevation (ft)        1353 non-null float64\n",
      "St Plane Xcoord Nr    1353 non-null int64\n",
      "St Plane Ycoord Nr    1353 non-null int64\n",
      "latitude              1353 non-null float64\n",
      "longitude             1353 non-null float64\n",
      "Decade                1353 non-null int32\n",
      "dtypes: datetime64[ns](2), float64(6), int32(1), int64(4)\n",
      "memory usage: 132.3 KB\n"
     ]
    }
   ],
   "source": [
    "data_raw.info()"
   ]
  },
  {
   "cell_type": "code",
   "execution_count": 9,
   "metadata": {},
   "outputs": [],
   "source": [
    "# Break out depth data\n",
    "X1 = data_raw['Well Depth'].copy()\n",
    "X2 = data_raw[['Year','latitude','longitude', 'Well Depth']].copy()\n",
    "X2.loc[:,'Year'] = X2.loc[:,'Year'].dt.year"
   ]
  },
  {
   "cell_type": "code",
   "execution_count": 10,
   "metadata": {},
   "outputs": [],
   "source": [
    "# Define KMeans clustering machine\n",
    "km = KMeans(n_clusters=5, init='random',\n",
    "            n_init=10, max_iter=500, tol=1e-04)"
   ]
  },
  {
   "cell_type": "code",
   "execution_count": 11,
   "metadata": {},
   "outputs": [],
   "source": [
    "# Fit model - years\n",
    "y1_km = km.fit_predict(X1.values.reshape(-1,1))"
   ]
  },
  {
   "cell_type": "code",
   "execution_count": 12,
   "metadata": {},
   "outputs": [],
   "source": [
    "# Fit model - all\n",
    "y2_km = km.fit_predict(X2)"
   ]
  },
  {
   "cell_type": "code",
   "execution_count": 13,
   "metadata": {},
   "outputs": [],
   "source": [
    "# Add in new class labels to data\n",
    "data_raw.loc[:,'Aquifer'] = y1_km\n",
    "data_raw.loc[:,'Aquifer - all'] = y2_km"
   ]
  },
  {
   "cell_type": "code",
   "execution_count": 14,
   "metadata": {},
   "outputs": [],
   "source": [
    "## Iterate through decades and classify wells\n",
    "#data_raw2 = pd.DataFrame()\n",
    "#for i in X2['Decade'].drop_duplicates():\n",
    "#    temp_df = data_raw[data_raw['Decade']==i].copy()\n",
    "#    temp_km = km.fit_predict(temp_df['Well Depth'].values.reshape(-1,1))\n",
    "#    temp_df['Aquifer - Decade2'] = temp_km\n",
    "#    data_raw2 = data_raw2.append(temp_df)"
   ]
  },
  {
   "cell_type": "code",
   "execution_count": 15,
   "metadata": {},
   "outputs": [],
   "source": [
    "## Adjust classification integer mapping\n",
    "#\n",
    "## build map\n",
    "#aquifer_map = pd.DataFrame()\n",
    "#for i in data_raw2['Decade'].drop_duplicates():\n",
    "#    temp_df = (data_raw2[data_raw2['Decade']==i].groupby(['Decade','Aquifer - Decade2'])['Well Depth'].mean()\n",
    "#               .reset_index().sort_values(['Decade','Well Depth']).reset_index(drop=True).reset_index()\n",
    "#               .rename({'index':'New Class'},axis=1)[['Decade','Aquifer - Decade2','New Class']])\n",
    "#    aquifer_map = aquifer_map.append(temp_df)\n",
    "#\n",
    "## join map to data\n",
    "#data_raw2 = pd.merge(data_raw2, aquifer_map, how='left', on=['Decade','Aquifer - Decade2'])\n",
    "#\n",
    "## update values\n",
    "#data_raw2.loc[:,'Aquifer - Decade2'] = data_raw2['New Class']\n",
    "#data_raw2.drop('New Class', axis=1, inplace=True)"
   ]
  },
  {
   "cell_type": "code",
   "execution_count": 17,
   "metadata": {},
   "outputs": [
    {
     "data": {
      "text/html": [
       "<div>\n",
       "<style scoped>\n",
       "    .dataframe tbody tr th:only-of-type {\n",
       "        vertical-align: middle;\n",
       "    }\n",
       "\n",
       "    .dataframe tbody tr th {\n",
       "        vertical-align: top;\n",
       "    }\n",
       "\n",
       "    .dataframe thead th {\n",
       "        text-align: right;\n",
       "    }\n",
       "</style>\n",
       "<table border=\"1\" class=\"dataframe\">\n",
       "  <thead>\n",
       "    <tr style=\"text-align: right;\">\n",
       "      <th></th>\n",
       "      <th>Well Log Id</th>\n",
       "      <th>Well Comp Dt</th>\n",
       "      <th>Year</th>\n",
       "      <th>Well Depth Qt</th>\n",
       "      <th>Well Diameter Qt</th>\n",
       "      <th>Well Depth</th>\n",
       "      <th>elevation</th>\n",
       "      <th>elevation (ft)</th>\n",
       "      <th>St Plane Xcoord Nr</th>\n",
       "      <th>St Plane Ycoord Nr</th>\n",
       "      <th>latitude</th>\n",
       "      <th>longitude</th>\n",
       "      <th>Decade</th>\n",
       "      <th>Aquifer</th>\n",
       "      <th>Aquifer - all</th>\n",
       "    </tr>\n",
       "  </thead>\n",
       "  <tbody>\n",
       "    <tr>\n",
       "      <th>0</th>\n",
       "      <td>60938</td>\n",
       "      <td>1979-02-14</td>\n",
       "      <td>1979-01-01</td>\n",
       "      <td>274.0</td>\n",
       "      <td>6.0</td>\n",
       "      <td>-24.65616</td>\n",
       "      <td>76</td>\n",
       "      <td>249.34384</td>\n",
       "      <td>1135594</td>\n",
       "      <td>873308</td>\n",
       "      <td>47.70995</td>\n",
       "      <td>-122.550446</td>\n",
       "      <td>70</td>\n",
       "      <td>1</td>\n",
       "      <td>3</td>\n",
       "    </tr>\n",
       "    <tr>\n",
       "      <th>1</th>\n",
       "      <td>60983</td>\n",
       "      <td>1992-10-02</td>\n",
       "      <td>1992-01-01</td>\n",
       "      <td>4.0</td>\n",
       "      <td>40.0</td>\n",
       "      <td>9.12336</td>\n",
       "      <td>4</td>\n",
       "      <td>13.12336</td>\n",
       "      <td>1132849</td>\n",
       "      <td>833770</td>\n",
       "      <td>47.60141</td>\n",
       "      <td>-122.557402</td>\n",
       "      <td>90</td>\n",
       "      <td>1</td>\n",
       "      <td>3</td>\n",
       "    </tr>\n",
       "  </tbody>\n",
       "</table>\n",
       "</div>"
      ],
      "text/plain": [
       "   Well Log Id Well Comp Dt       Year  Well Depth Qt  Well Diameter Qt  \\\n",
       "0        60938   1979-02-14 1979-01-01          274.0               6.0   \n",
       "1        60983   1992-10-02 1992-01-01            4.0              40.0   \n",
       "\n",
       "   Well Depth  elevation  elevation (ft)  St Plane Xcoord Nr  \\\n",
       "0   -24.65616         76       249.34384             1135594   \n",
       "1     9.12336          4        13.12336             1132849   \n",
       "\n",
       "   St Plane Ycoord Nr  latitude   longitude  Decade  Aquifer  Aquifer - all  \n",
       "0              873308  47.70995 -122.550446      70        1              3  \n",
       "1              833770  47.60141 -122.557402      90        1              3  "
      ]
     },
     "execution_count": 17,
     "metadata": {},
     "output_type": "execute_result"
    }
   ],
   "source": [
    "data_raw.head(2)"
   ]
  },
  {
   "cell_type": "code",
   "execution_count": 18,
   "metadata": {},
   "outputs": [],
   "source": [
    "# Output data\n",
    "data_raw.to_csv('{}well_data_aquifer_classifications.csv'.format(dataPath),header=True,index=False)"
   ]
  },
  {
   "cell_type": "markdown",
   "metadata": {},
   "source": [
    "Linear regression"
   ]
  },
  {
   "cell_type": "code",
   "execution_count": null,
   "metadata": {},
   "outputs": [],
   "source": []
  }
 ],
 "metadata": {
  "kernelspec": {
   "display_name": "Python 3",
   "language": "python",
   "name": "python3"
  },
  "language_info": {
   "codemirror_mode": {
    "name": "ipython",
    "version": 3
   },
   "file_extension": ".py",
   "mimetype": "text/x-python",
   "name": "python",
   "nbconvert_exporter": "python",
   "pygments_lexer": "ipython3",
   "version": "3.7.3"
  }
 },
 "nbformat": 4,
 "nbformat_minor": 2
}
